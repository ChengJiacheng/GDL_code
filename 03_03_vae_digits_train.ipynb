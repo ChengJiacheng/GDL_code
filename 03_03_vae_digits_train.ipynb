{
 "cells": [
  {
   "cell_type": "markdown",
   "metadata": {},
   "source": [
    "# VAE Training"
   ]
  },
  {
   "cell_type": "markdown",
   "metadata": {},
   "source": [
    "## imports"
   ]
  },
  {
   "cell_type": "code",
   "execution_count": 1,
   "metadata": {},
   "outputs": [
    {
     "output_type": "stream",
     "name": "stderr",
     "text": "Using TensorFlow backend.\n"
    }
   ],
   "source": [
    "import os\n",
    "\n",
    "from models.VAE import VariationalAutoencoder\n",
    "from utils.loaders import load_mnist"
   ]
  },
  {
   "cell_type": "code",
   "execution_count": 2,
   "metadata": {},
   "outputs": [],
   "source": [
    "# run params\n",
    "SECTION = 'vae'\n",
    "RUN_ID = '0002'\n",
    "DATA_NAME = 'digits'\n",
    "RUN_FOLDER = 'run/{}/'.format(SECTION)\n",
    "RUN_FOLDER += '_'.join([RUN_ID, DATA_NAME])\n",
    "\n",
    "if not os.path.exists(RUN_FOLDER):\n",
    "    os.mkdir(RUN_FOLDER)\n",
    "    os.mkdir(os.path.join(RUN_FOLDER, 'viz'))\n",
    "    os.mkdir(os.path.join(RUN_FOLDER, 'images'))\n",
    "    os.mkdir(os.path.join(RUN_FOLDER, 'weights'))\n",
    "\n",
    "mode =  'build' #'load' #"
   ]
  },
  {
   "cell_type": "markdown",
   "metadata": {},
   "source": [
    "## data"
   ]
  },
  {
   "cell_type": "code",
   "execution_count": 3,
   "metadata": {},
   "outputs": [],
   "source": [
    "(x_train, y_train), (x_test, y_test) = load_mnist()"
   ]
  },
  {
   "cell_type": "markdown",
   "metadata": {},
   "source": [
    "## architecture"
   ]
  },
  {
   "cell_type": "code",
   "execution_count": 4,
   "metadata": {},
   "outputs": [],
   "source": [
    "vae = VariationalAutoencoder(\n",
    "    input_dim = (28,28,1)\n",
    "    , encoder_conv_filters = [32,64,64, 64]\n",
    "    , encoder_conv_kernel_size = [3,3,3,3]\n",
    "    , encoder_conv_strides = [1,2,2,1]\n",
    "    , decoder_conv_t_filters = [64,64,32,1]\n",
    "    , decoder_conv_t_kernel_size = [3,3,3,3]\n",
    "    , decoder_conv_t_strides = [1,2,2,1]\n",
    "    , z_dim = 2\n",
    ")\n",
    "\n",
    "if mode == 'build':\n",
    "    vae.save(RUN_FOLDER)\n",
    "else:\n",
    "    vae.load_weights(os.path.join(RUN_FOLDER, 'weights/weights.h5'))"
   ]
  },
  {
   "cell_type": "code",
   "execution_count": 5,
   "metadata": {},
   "outputs": [
    {
     "output_type": "stream",
     "name": "stdout",
     "text": "Model: \"model_2\"\n__________________________________________________________________________________________________\nLayer (type)                    Output Shape         Param #     Connected to                     \n==================================================================================================\nencoder_input (InputLayer)      (None, 28, 28, 1)    0                                            \n__________________________________________________________________________________________________\nencoder_conv_0 (Conv2D)         (None, 28, 28, 32)   320         encoder_input[0][0]              \n__________________________________________________________________________________________________\nleaky_re_lu_1 (LeakyReLU)       (None, 28, 28, 32)   0           encoder_conv_0[0][0]             \n__________________________________________________________________________________________________\nencoder_conv_1 (Conv2D)         (None, 14, 14, 64)   18496       leaky_re_lu_1[0][0]              \n__________________________________________________________________________________________________\nleaky_re_lu_2 (LeakyReLU)       (None, 14, 14, 64)   0           encoder_conv_1[0][0]             \n__________________________________________________________________________________________________\nencoder_conv_2 (Conv2D)         (None, 7, 7, 64)     36928       leaky_re_lu_2[0][0]              \n__________________________________________________________________________________________________\nleaky_re_lu_3 (LeakyReLU)       (None, 7, 7, 64)     0           encoder_conv_2[0][0]             \n__________________________________________________________________________________________________\nencoder_conv_3 (Conv2D)         (None, 7, 7, 64)     36928       leaky_re_lu_3[0][0]              \n__________________________________________________________________________________________________\nleaky_re_lu_4 (LeakyReLU)       (None, 7, 7, 64)     0           encoder_conv_3[0][0]             \n__________________________________________________________________________________________________\nflatten_1 (Flatten)             (None, 3136)         0           leaky_re_lu_4[0][0]              \n__________________________________________________________________________________________________\nmu (Dense)                      (None, 2)            6274        flatten_1[0][0]                  \n__________________________________________________________________________________________________\nlog_var (Dense)                 (None, 2)            6274        flatten_1[0][0]                  \n__________________________________________________________________________________________________\nencoder_output (Lambda)         (None, 2)            0           mu[0][0]                         \n                                                                 log_var[0][0]                    \n==================================================================================================\nTotal params: 105,220\nTrainable params: 105,220\nNon-trainable params: 0\n__________________________________________________________________________________________________\n"
    }
   ],
   "source": [
    "vae.encoder.summary()"
   ]
  },
  {
   "cell_type": "code",
   "execution_count": 6,
   "metadata": {},
   "outputs": [
    {
     "output_type": "stream",
     "name": "stdout",
     "text": "Model: \"model_3\"\n_________________________________________________________________\nLayer (type)                 Output Shape              Param #   \n=================================================================\ndecoder_input (InputLayer)   (None, 2)                 0         \n_________________________________________________________________\ndense_1 (Dense)              (None, 3136)              9408      \n_________________________________________________________________\nreshape_1 (Reshape)          (None, 7, 7, 64)          0         \n_________________________________________________________________\ndecoder_conv_t_0 (Conv2DTran (None, 7, 7, 64)          36928     \n_________________________________________________________________\nleaky_re_lu_5 (LeakyReLU)    (None, 7, 7, 64)          0         \n_________________________________________________________________\ndecoder_conv_t_1 (Conv2DTran (None, 14, 14, 64)        36928     \n_________________________________________________________________\nleaky_re_lu_6 (LeakyReLU)    (None, 14, 14, 64)        0         \n_________________________________________________________________\ndecoder_conv_t_2 (Conv2DTran (None, 28, 28, 32)        18464     \n_________________________________________________________________\nleaky_re_lu_7 (LeakyReLU)    (None, 28, 28, 32)        0         \n_________________________________________________________________\ndecoder_conv_t_3 (Conv2DTran (None, 28, 28, 1)         289       \n_________________________________________________________________\nactivation_1 (Activation)    (None, 28, 28, 1)         0         \n=================================================================\nTotal params: 102,017\nTrainable params: 102,017\nNon-trainable params: 0\n_________________________________________________________________\n"
    }
   ],
   "source": [
    "vae.decoder.summary()"
   ]
  },
  {
   "cell_type": "markdown",
   "metadata": {},
   "source": [
    "## training"
   ]
  },
  {
   "cell_type": "code",
   "execution_count": 7,
   "metadata": {},
   "outputs": [],
   "source": [
    "LEARNING_RATE = 0.0005\n",
    "R_LOSS_FACTOR = 1000"
   ]
  },
  {
   "cell_type": "code",
   "execution_count": 8,
   "metadata": {},
   "outputs": [],
   "source": [
    "vae.compile(LEARNING_RATE, R_LOSS_FACTOR)"
   ]
  },
  {
   "cell_type": "code",
   "execution_count": 9,
   "metadata": {},
   "outputs": [],
   "source": [
    "BATCH_SIZE = 32\n",
    "EPOCHS = 200\n",
    "PRINT_EVERY_N_BATCHES = 100\n",
    "INITIAL_EPOCH = 0"
   ]
  },
  {
   "cell_type": "code",
   "execution_count": 10,
   "metadata": {},
   "outputs": [
    {
     "output_type": "stream",
     "name": "stdout",
     "text": "Epoch 1/200\n60000/60000 [==============================] - 22s 360us/step - loss: 58.3718 - vae_r_loss: 55.1358 - vae_kl_loss: 3.2360\n\nEpoch 00001: saving model to run/vae/0002_digits/weights/weights-001-58.37.h5\n\nEpoch 00001: saving model to run/vae/0002_digits/weights/weights.h5\nEpoch 2/200\n60000/60000 [==============================] - 21s 358us/step - loss: 51.7704 - vae_r_loss: 47.8178 - vae_kl_loss: 3.9525\n\nEpoch 00002: saving model to run/vae/0002_digits/weights/weights-002-51.77.h5\n\nEpoch 00002: saving model to run/vae/0002_digits/weights/weights.h5\nEpoch 3/200\n60000/60000 [==============================] - 21s 350us/step - loss: 50.1659 - vae_r_loss: 45.8852 - vae_kl_loss: 4.2807\n\nEpoch 00003: saving model to run/vae/0002_digits/weights/weights-003-50.17.h5\n\nEpoch 00003: saving model to run/vae/0002_digits/weights/weights.h5\nEpoch 4/200\n60000/60000 [==============================] - 19s 322us/step - loss: 49.2243 - vae_r_loss: 44.7691 - vae_kl_loss: 4.4552\n\nEpoch 00004: saving model to run/vae/0002_digits/weights/weights-004-49.22.h5\n\nEpoch 00004: saving model to run/vae/0002_digits/weights/weights.h5\nEpoch 5/200\n60000/60000 [==============================] - 21s 350us/step - loss: 48.5868 - vae_r_loss: 44.0174 - vae_kl_loss: 4.5694\n\nEpoch 00005: saving model to run/vae/0002_digits/weights/weights-005-48.59.h5\n\nEpoch 00005: saving model to run/vae/0002_digits/weights/weights.h5\nEpoch 6/200\n60000/60000 [==============================] - 23s 386us/step - loss: 48.1036 - vae_r_loss: 43.4521 - vae_kl_loss: 4.6515\n\nEpoch 00006: saving model to run/vae/0002_digits/weights/weights-006-48.10.h5\n\nEpoch 00006: saving model to run/vae/0002_digits/weights/weights.h5\nEpoch 7/200\n 6048/60000 [==>...........................] - ETA: 19s - loss: 47.6015 - vae_r_loss: 42.8943 - vae_kl_loss: 4.7072"
    }
   ],
   "source": [
    "vae.train(     \n",
    "    x_train\n",
    "    , batch_size = BATCH_SIZE\n",
    "    , epochs = EPOCHS\n",
    "    , run_folder = RUN_FOLDER\n",
    "    , print_every_n_batches = PRINT_EVERY_N_BATCHES\n",
    "    , initial_epoch = INITIAL_EPOCH\n",
    ")"
   ]
  },
  {
   "cell_type": "code",
   "execution_count": null,
   "metadata": {},
   "outputs": [],
   "source": []
  }
 ],
 "metadata": {
  "kernelspec": {
   "display_name": "Python 3",
   "language": "python",
   "name": "python3"
  },
  "language_info": {
   "codemirror_mode": {
    "name": "ipython",
    "version": 3
   },
   "file_extension": ".py",
   "mimetype": "text/x-python",
   "name": "python",
   "nbconvert_exporter": "python",
   "pygments_lexer": "ipython3",
   "version": "3.6.9-final"
  }
 },
 "nbformat": 4,
 "nbformat_minor": 2
}